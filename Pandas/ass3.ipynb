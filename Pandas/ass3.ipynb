{
 "cells": [
  {
   "cell_type": "markdown",
   "id": "ecccb625-bb4f-414f-8438-1c3d8149f7f2",
   "metadata": {},
   "source": [
    "<b><h2>Assignment No : 03</h2></b>\n",
    "<h4><b>Problem Statement :</b></h4>\n",
    "<b><i>Fetch your answer for question 2 with the help of Pandas Series.</i></b><br>\n",
    "<hr>\n",
    "<br>"
   ]
  },
  {
   "cell_type": "code",
   "execution_count": 1,
   "id": "756aa7a7-3a8a-44ad-94a1-6e6db24f51e9",
   "metadata": {},
   "outputs": [],
   "source": [
    "import pandas as pd"
   ]
  },
  {
   "cell_type": "code",
   "execution_count": 2,
   "id": "0607a479-0e26-48ea-a047-f9d6ddb07432",
   "metadata": {},
   "outputs": [],
   "source": [
    "df = pd.read_csv(\"mba.csv\")"
   ]
  },
  {
   "cell_type": "code",
   "execution_count": 3,
   "id": "88fc62e2-8663-466c-8c98-36abb80e5811",
   "metadata": {},
   "outputs": [],
   "source": [
    "name = pd.Series(df['Name'])\n",
    "fees = pd.Series(df['Fees'])"
   ]
  },
  {
   "cell_type": "code",
   "execution_count": 4,
   "id": "cb85e780-d121-431b-81b7-85ac1d8fbac1",
   "metadata": {},
   "outputs": [
    {
     "data": {
      "text/plain": [
       "0    Doraemon\n",
       "1      Nobita\n",
       "2     Shizuka\n",
       "3       Suneo\n",
       "4        Gian\n",
       "5    Dekisugi\n",
       "Name: Name, dtype: object"
      ]
     },
     "execution_count": 4,
     "metadata": {},
     "output_type": "execute_result"
    }
   ],
   "source": [
    "name"
   ]
  },
  {
   "cell_type": "code",
   "execution_count": 5,
   "id": "844c3935-99d8-4dac-92ff-2610c20ca60b",
   "metadata": {},
   "outputs": [
    {
     "data": {
      "text/plain": [
       "0    50000\n",
       "1    10000\n",
       "2    20000\n",
       "3    40000\n",
       "4     5000\n",
       "5    30000\n",
       "Name: Fees, dtype: int64"
      ]
     },
     "execution_count": 5,
     "metadata": {},
     "output_type": "execute_result"
    }
   ],
   "source": [
    "fees"
   ]
  }
 ],
 "metadata": {
  "kernelspec": {
   "display_name": "Python 3 (ipykernel)",
   "language": "python",
   "name": "python3"
  },
  "language_info": {
   "codemirror_mode": {
    "name": "ipython",
    "version": 3
   },
   "file_extension": ".py",
   "mimetype": "text/x-python",
   "name": "python",
   "nbconvert_exporter": "python",
   "pygments_lexer": "ipython3",
   "version": "3.11.4"
  }
 },
 "nbformat": 4,
 "nbformat_minor": 5
}
