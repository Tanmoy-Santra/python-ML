{
 "cells": [
  {
   "cell_type": "markdown",
   "id": "f2d32b5c-8192-4461-bab2-96f4ca91f90e",
   "metadata": {},
   "source": [
    "<b><h2>Assignment No : 02</h2></b>\n",
    "<h4><b>Problem Statement :</b></h4>\n",
    "<b><i>Read mba.csv file and just fetch the name and fees and print it with the help of data frame.</i></b><br>\n",
    "<hr>\n",
    "<br>"
   ]
  },
  {
   "cell_type": "code",
   "execution_count": 1,
   "id": "756aa7a7-3a8a-44ad-94a1-6e6db24f51e9",
   "metadata": {},
   "outputs": [],
   "source": [
    "import pandas as pd"
   ]
  },
  {
   "cell_type": "code",
   "execution_count": 2,
   "id": "5dfcf687-d3c8-492d-aada-6e38868b7912",
   "metadata": {},
   "outputs": [],
   "source": [
    "df = pd.read_csv('mba.csv')\n",
    "datas = df[['Name', 'Fees']]"
   ]
  },
  {
   "cell_type": "code",
   "execution_count": 3,
   "id": "6ca7bef3-4b69-4462-8de9-e657de279145",
   "metadata": {},
   "outputs": [
    {
     "name": "stdout",
     "output_type": "stream",
     "text": [
      "       Name   Fees\n",
      "0  Doraemon  50000\n",
      "1    Nobita  10000\n",
      "2   Shizuka  20000\n",
      "3     Suneo  40000\n",
      "4      Gian   5000\n",
      "5  Dekisugi  30000\n"
     ]
    }
   ],
   "source": [
    "print(datas)"
   ]
  }
 ],
 "metadata": {
  "kernelspec": {
   "display_name": "Python 3 (ipykernel)",
   "language": "python",
   "name": "python3"
  },
  "language_info": {
   "codemirror_mode": {
    "name": "ipython",
    "version": 3
   },
   "file_extension": ".py",
   "mimetype": "text/x-python",
   "name": "python",
   "nbconvert_exporter": "python",
   "pygments_lexer": "ipython3",
   "version": "3.11.4"
  }
 },
 "nbformat": 4,
 "nbformat_minor": 5
}
