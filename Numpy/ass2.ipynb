{
 "cells": [
  {
   "cell_type": "markdown",
   "id": "ecccb625-bb4f-414f-8438-1c3d8149f7f2",
   "metadata": {},
   "source": [
    "<b><h2>Assignment No : 02</h2></b>\n",
    "<h4><b>Problem Statement :</b></h4>\n",
    "<b><i>Take 3X3 matrices add it with another 3x3 of all 1 matrix and convert that to a complex \n",
    "data type matrix.</i></b><br>\n",
    "<hr>\n",
    "<br>"
   ]
  },
  {
   "cell_type": "code",
   "execution_count": 1,
   "id": "756aa7a7-3a8a-44ad-94a1-6e6db24f51e9",
   "metadata": {},
   "outputs": [],
   "source": [
    "import numpy as np"
   ]
  },
  {
   "cell_type": "code",
   "execution_count": 2,
   "id": "1909a533-928c-49dd-b412-a5cb564c40fb",
   "metadata": {},
   "outputs": [],
   "source": [
    "a = np.array([[1,2,3],[4,5,6],[7,8,9]])\n",
    "b = np.array([[10,11,12],[13,14,15],[16,17,18]])\n",
    "c = np.ones((3,3))\n",
    "d = a+b+c"
   ]
  },
  {
   "cell_type": "code",
   "execution_count": 3,
   "id": "c1f38b07-57ae-496e-ac64-f570731bb196",
   "metadata": {},
   "outputs": [
    {
     "data": {
      "text/plain": [
       "array([[1, 2, 3],\n",
       "       [4, 5, 6],\n",
       "       [7, 8, 9]])"
      ]
     },
     "execution_count": 3,
     "metadata": {},
     "output_type": "execute_result"
    }
   ],
   "source": [
    "a"
   ]
  },
  {
   "cell_type": "code",
   "execution_count": 4,
   "id": "854b90f9-f1d5-4324-94d8-637ea5df5b7e",
   "metadata": {},
   "outputs": [
    {
     "data": {
      "text/plain": [
       "array([[10, 11, 12],\n",
       "       [13, 14, 15],\n",
       "       [16, 17, 18]])"
      ]
     },
     "execution_count": 4,
     "metadata": {},
     "output_type": "execute_result"
    }
   ],
   "source": [
    "b"
   ]
  },
  {
   "cell_type": "code",
   "execution_count": 5,
   "id": "81838d8d-fd3f-4628-a8d2-0983225865ed",
   "metadata": {},
   "outputs": [
    {
     "data": {
      "text/plain": [
       "array([[1., 1., 1.],\n",
       "       [1., 1., 1.],\n",
       "       [1., 1., 1.]])"
      ]
     },
     "execution_count": 5,
     "metadata": {},
     "output_type": "execute_result"
    }
   ],
   "source": [
    "c"
   ]
  },
  {
   "cell_type": "code",
   "execution_count": 6,
   "id": "c6674e66-56ae-4f84-b692-6177207339e0",
   "metadata": {},
   "outputs": [
    {
     "data": {
      "text/plain": [
       "array([[12., 14., 16.],\n",
       "       [18., 20., 22.],\n",
       "       [24., 26., 28.]])"
      ]
     },
     "execution_count": 6,
     "metadata": {},
     "output_type": "execute_result"
    }
   ],
   "source": [
    "d"
   ]
  },
  {
   "cell_type": "code",
   "execution_count": 7,
   "id": "7e47f2ac-1872-41e9-8788-c77ccd233336",
   "metadata": {},
   "outputs": [],
   "source": [
    "new = d.astype(np.complex128)"
   ]
  },
  {
   "cell_type": "code",
   "execution_count": 8,
   "id": "21781aed-be1c-4648-97ae-d0acb40f1a3f",
   "metadata": {},
   "outputs": [
    {
     "data": {
      "text/plain": [
       "array([[12.+0.j, 14.+0.j, 16.+0.j],\n",
       "       [18.+0.j, 20.+0.j, 22.+0.j],\n",
       "       [24.+0.j, 26.+0.j, 28.+0.j]])"
      ]
     },
     "execution_count": 8,
     "metadata": {},
     "output_type": "execute_result"
    }
   ],
   "source": [
    "new"
   ]
  }
 ],
 "metadata": {
  "kernelspec": {
   "display_name": "Python 3 (ipykernel)",
   "language": "python",
   "name": "python3"
  },
  "language_info": {
   "codemirror_mode": {
    "name": "ipython",
    "version": 3
   },
   "file_extension": ".py",
   "mimetype": "text/x-python",
   "name": "python",
   "nbconvert_exporter": "python",
   "pygments_lexer": "ipython3",
   "version": "3.11.4"
  }
 },
 "nbformat": 4,
 "nbformat_minor": 5
}
