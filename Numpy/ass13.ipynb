{
 "cells": [
  {
   "cell_type": "markdown",
   "id": "ecccb625-bb4f-414f-8438-1c3d8149f7f2",
   "metadata": {},
   "source": [
    "<b><h2>Assignment No : 13</h2></b>\n",
    "<h4><b>Problem Statement :</b></h4>\n",
    "<b><i>Take a matrix of 3x3 and find out the Eigen vector and Eigen values of that matrix.</i></b><br>\n",
    "<hr>\n",
    "<br>"
   ]
  },
  {
   "cell_type": "code",
   "execution_count": 1,
   "id": "756aa7a7-3a8a-44ad-94a1-6e6db24f51e9",
   "metadata": {},
   "outputs": [],
   "source": [
    "import numpy as np"
   ]
  },
  {
   "cell_type": "code",
   "execution_count": 2,
   "id": "1909a533-928c-49dd-b412-a5cb564c40fb",
   "metadata": {},
   "outputs": [],
   "source": [
    "a = np.array([[4,6,10],[3,10,13],[-2,-6,-8]])"
   ]
  },
  {
   "cell_type": "code",
   "execution_count": 3,
   "id": "c1f38b07-57ae-496e-ac64-f570731bb196",
   "metadata": {},
   "outputs": [],
   "source": [
    "val,vec = np.linalg.eig(a)"
   ]
  },
  {
   "cell_type": "code",
   "execution_count": 4,
   "id": "854b90f9-f1d5-4324-94d8-637ea5df5b7e",
   "metadata": {},
   "outputs": [
    {
     "name": "stdout",
     "output_type": "stream",
     "text": [
      "Eigen values:\n",
      " [4.00000000e+00 2.00000000e+00 1.00840575e-15]\n"
     ]
    }
   ],
   "source": [
    "print(\"Eigen values:\\n\",val)"
   ]
  },
  {
   "cell_type": "code",
   "execution_count": 5,
   "id": "81838d8d-fd3f-4628-a8d2-0983225865ed",
   "metadata": {},
   "outputs": [
    {
     "name": "stdout",
     "output_type": "stream",
     "text": [
      "Eigen vectors:\n",
      " [[ 0.45749571  0.40824829 -0.57735027]\n",
      " [ 0.76249285 -0.81649658 -0.57735027]\n",
      " [-0.45749571  0.40824829  0.57735027]]\n"
     ]
    }
   ],
   "source": [
    "print(\"Eigen vectors:\\n\",vec)"
   ]
  }
 ],
 "metadata": {
  "kernelspec": {
   "display_name": "Python 3 (ipykernel)",
   "language": "python",
   "name": "python3"
  },
  "language_info": {
   "codemirror_mode": {
    "name": "ipython",
    "version": 3
   },
   "file_extension": ".py",
   "mimetype": "text/x-python",
   "name": "python",
   "nbconvert_exporter": "python",
   "pygments_lexer": "ipython3",
   "version": "3.11.4"
  }
 },
 "nbformat": 4,
 "nbformat_minor": 5
}
