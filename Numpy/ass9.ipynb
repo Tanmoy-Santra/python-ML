{
 "cells": [
  {
   "cell_type": "markdown",
   "id": "ecccb625-bb4f-414f-8438-1c3d8149f7f2",
   "metadata": {},
   "source": [
    "<b><h2>Assignment No : 09</h2></b>\n",
    "<h4><b>Problem Statement :</b></h4>\n",
    "<b><i>f(x) = x^3 + 5y and store it in (3,3) matrix.</i></b><br>\n",
    "<hr>\n",
    "<br>"
   ]
  },
  {
   "cell_type": "code",
   "execution_count": 1,
   "id": "756aa7a7-3a8a-44ad-94a1-6e6db24f51e9",
   "metadata": {},
   "outputs": [],
   "source": [
    "import numpy as np"
   ]
  },
  {
   "cell_type": "code",
   "execution_count": 2,
   "id": "1909a533-928c-49dd-b412-a5cb564c40fb",
   "metadata": {},
   "outputs": [],
   "source": [
    "def f(x,y):\n",
    "    return x**3 + 5*y"
   ]
  },
  {
   "cell_type": "code",
   "execution_count": 3,
   "id": "c1f38b07-57ae-496e-ac64-f570731bb196",
   "metadata": {},
   "outputs": [],
   "source": [
    "a = np.fromfunction(f,(3,3),dtype=int)"
   ]
  },
  {
   "cell_type": "code",
   "execution_count": 4,
   "id": "854b90f9-f1d5-4324-94d8-637ea5df5b7e",
   "metadata": {},
   "outputs": [
    {
     "data": {
      "text/plain": [
       "array([[ 0,  5, 10],\n",
       "       [ 1,  6, 11],\n",
       "       [ 8, 13, 18]])"
      ]
     },
     "execution_count": 4,
     "metadata": {},
     "output_type": "execute_result"
    }
   ],
   "source": [
    "a"
   ]
  }
 ],
 "metadata": {
  "kernelspec": {
   "display_name": "Python 3 (ipykernel)",
   "language": "python",
   "name": "python3"
  },
  "language_info": {
   "codemirror_mode": {
    "name": "ipython",
    "version": 3
   },
   "file_extension": ".py",
   "mimetype": "text/x-python",
   "name": "python",
   "nbconvert_exporter": "python",
   "pygments_lexer": "ipython3",
   "version": "3.11.4"
  }
 },
 "nbformat": 4,
 "nbformat_minor": 5
}
