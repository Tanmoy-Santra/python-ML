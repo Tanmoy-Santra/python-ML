{
 "cells": [
  {
   "cell_type": "markdown",
   "id": "ecccb625-bb4f-414f-8438-1c3d8149f7f2",
   "metadata": {},
   "source": [
    "<b><h2>Assignment No : 10</h2></b>\n",
    "<h4><b>Problem Statement :</b></h4>\n",
    "<b><i>Take a function array 'a' cube with a range of 20 and find out what will be the value of a[[7,8],[9,11]]. If we take values a[[7,8],[9,21]] will it take if not why?\n",
    "</i></b><br>\n",
    "<hr>\n",
    "<br>"
   ]
  },
  {
   "cell_type": "code",
   "execution_count": 1,
   "id": "756aa7a7-3a8a-44ad-94a1-6e6db24f51e9",
   "metadata": {},
   "outputs": [],
   "source": [
    "import numpy as np"
   ]
  },
  {
   "cell_type": "code",
   "execution_count": 2,
   "id": "1909a533-928c-49dd-b412-a5cb564c40fb",
   "metadata": {},
   "outputs": [],
   "source": [
    "a = np.arange(20)**3"
   ]
  },
  {
   "cell_type": "code",
   "execution_count": 3,
   "id": "c1f38b07-57ae-496e-ac64-f570731bb196",
   "metadata": {},
   "outputs": [
    {
     "data": {
      "text/plain": [
       "array([   0,    1,    8,   27,   64,  125,  216,  343,  512,  729, 1000,\n",
       "       1331, 1728, 2197, 2744, 3375, 4096, 4913, 5832, 6859], dtype=int32)"
      ]
     },
     "execution_count": 3,
     "metadata": {},
     "output_type": "execute_result"
    }
   ],
   "source": [
    "a"
   ]
  },
  {
   "cell_type": "code",
   "execution_count": 4,
   "id": "a1cfed72-8c3c-4d00-82f8-741636aa2aa4",
   "metadata": {},
   "outputs": [],
   "source": [
    "i = np.array([[7,8],[9,11]])"
   ]
  },
  {
   "cell_type": "code",
   "execution_count": 5,
   "id": "851788fa-3909-47a7-9d82-e24af099d435",
   "metadata": {},
   "outputs": [
    {
     "data": {
      "text/plain": [
       "array([[ 343,  512],\n",
       "       [ 729, 1331]], dtype=int32)"
      ]
     },
     "execution_count": 5,
     "metadata": {},
     "output_type": "execute_result"
    }
   ],
   "source": [
    "a[i]"
   ]
  },
  {
   "cell_type": "markdown",
   "id": "e0943e78-4b88-46f4-b4a7-1bfab12d08ee",
   "metadata": {},
   "source": [
    "<br><b><i>Here a[[7,8],[9,21]] will not accepted as the array is of size 20 so it cannot be indexed 21</i></b><br>"
   ]
  },
  {
   "cell_type": "code",
   "execution_count": 6,
   "id": "4be11b22-88d1-4222-a6fb-a972854458f9",
   "metadata": {},
   "outputs": [],
   "source": [
    "j = np.array([[7,8],[9,21]])"
   ]
  },
  {
   "cell_type": "code",
   "execution_count": 7,
   "id": "72ab96a0-fa60-4d0f-b992-b8dd69d32c28",
   "metadata": {},
   "outputs": [
    {
     "ename": "IndexError",
     "evalue": "index 21 is out of bounds for axis 0 with size 20",
     "output_type": "error",
     "traceback": [
      "\u001b[1;31m---------------------------------------------------------------------------\u001b[0m",
      "\u001b[1;31mIndexError\u001b[0m                                Traceback (most recent call last)",
      "Cell \u001b[1;32mIn[7], line 1\u001b[0m\n\u001b[1;32m----> 1\u001b[0m \u001b[43ma\u001b[49m\u001b[43m[\u001b[49m\u001b[43mj\u001b[49m\u001b[43m]\u001b[49m\n",
      "\u001b[1;31mIndexError\u001b[0m: index 21 is out of bounds for axis 0 with size 20"
     ]
    }
   ],
   "source": [
    "a[j]"
   ]
  }
 ],
 "metadata": {
  "kernelspec": {
   "display_name": "Python 3 (ipykernel)",
   "language": "python",
   "name": "python3"
  },
  "language_info": {
   "codemirror_mode": {
    "name": "ipython",
    "version": 3
   },
   "file_extension": ".py",
   "mimetype": "text/x-python",
   "name": "python",
   "nbconvert_exporter": "python",
   "pygments_lexer": "ipython3",
   "version": "3.11.4"
  }
 },
 "nbformat": 4,
 "nbformat_minor": 5
}
