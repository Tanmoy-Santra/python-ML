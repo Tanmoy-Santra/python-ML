{
 "cells": [
  {
   "cell_type": "markdown",
   "id": "ecccb625-bb4f-414f-8438-1c3d8149f7f2",
   "metadata": {},
   "source": [
    "<b><h2>Assignment No : 05</h2></b>\n",
    "<h4><b>Problem Statement :</b></h4>\n",
    "<b><i>Randomly generate 10 numbers in between 1 to 10 and convert that to a 5X2 matrix. Take a floating-point matrix and perform the addition. a = floating point matrix and b is an integer matrix of same dimension. Why a+=b is not equal to b+=a. Explain briefly. How can we resolve this problem ?</i></b><br>\n",
    "<hr>\n",
    "<br>"
   ]
  },
  {
   "cell_type": "code",
   "execution_count": 1,
   "id": "756aa7a7-3a8a-44ad-94a1-6e6db24f51e9",
   "metadata": {},
   "outputs": [],
   "source": [
    "import numpy as np"
   ]
  },
  {
   "cell_type": "code",
   "execution_count": 2,
   "id": "1909a533-928c-49dd-b412-a5cb564c40fb",
   "metadata": {},
   "outputs": [],
   "source": [
    "b = np.random.randint(1,11,size=10)\n",
    "b = b.reshape(5,2)\n",
    "a = np.array([[1.1,2.2],\n",
    "            [3.3,4.4],\n",
    "            [5.5,6.6],\n",
    "            [7.7,8.8],\n",
    "            [9.9,10.0]])"
   ]
  },
  {
   "cell_type": "code",
   "execution_count": 3,
   "id": "aa765c1c-d68d-4895-b8d9-cb09546f4156",
   "metadata": {},
   "outputs": [],
   "source": [
    "a += b"
   ]
  },
  {
   "cell_type": "code",
   "execution_count": 4,
   "id": "51395e74-6b71-4272-a9e9-d76e4037d066",
   "metadata": {},
   "outputs": [
    {
     "ename": "UFuncTypeError",
     "evalue": "Cannot cast ufunc 'add' output from dtype('float64') to dtype('int32') with casting rule 'same_kind'",
     "output_type": "error",
     "traceback": [
      "\u001b[1;31m---------------------------------------------------------------------------\u001b[0m",
      "\u001b[1;31mUFuncTypeError\u001b[0m                            Traceback (most recent call last)",
      "Cell \u001b[1;32mIn[4], line 1\u001b[0m\n\u001b[1;32m----> 1\u001b[0m \u001b[43mb\u001b[49m\u001b[43m \u001b[49m\u001b[38;5;241;43m+\u001b[39;49m\u001b[38;5;241;43m=\u001b[39;49m\u001b[43m \u001b[49m\u001b[43ma\u001b[49m\n",
      "\u001b[1;31mUFuncTypeError\u001b[0m: Cannot cast ufunc 'add' output from dtype('float64') to dtype('int32') with casting rule 'same_kind'"
     ]
    }
   ],
   "source": [
    "b += a"
   ]
  },
  {
   "cell_type": "markdown",
   "id": "ee6da13a-68e1-426b-b8ab-4c6060bc6159",
   "metadata": {},
   "source": [
    "<br><b>Array b contains integers (int32) and array a contains floating-point numbers (float64). When the operation a+=b performed it means addition of integer values from array a to floating-point values in array b. It does not give error because element of b added with integer part of a and the result is a floating point number which is also the datatype of a.<br><br>But b+=a throw an error because element of b is a floating point number and we are trying to add with and store it in element of a, which leads to a data type mismatch, and NumPy cannot automatically perform this operation while preserving the data types. It does not allow the conversion from float64 to int32 without potential loss of precision.<br><br>That's why here a+=b and b+=a are not same.<br><br><br><br><br><br><br><br><br><br><br>To avoid this error, we should make sure that the data types of the arrays involved in element-wise operations are compatible. We can do this by ensuring that both arrays have the same data type or by explicitly converting one of the arrays to the data type of the other (using astype)  before performing the operation.</b><br><br>"
   ]
  },
  {
   "cell_type": "code",
   "execution_count": 5,
   "id": "3fb95367-11f9-4a3f-8907-46d4f5138406",
   "metadata": {},
   "outputs": [],
   "source": [
    "b1 = np.random.randint(1,11,size=10)\n",
    "b1 = b1.reshape(5,2)\n",
    "a1 = np.array([[1.1,2.2],\n",
    "            [3.3,4.4],\n",
    "            [5.5,6.6],\n",
    "            [7.7,8.8],\n",
    "            [9.9,10.0]])"
   ]
  },
  {
   "cell_type": "code",
   "execution_count": 6,
   "id": "bfd1530b-0550-458b-a141-09775c891f34",
   "metadata": {},
   "outputs": [],
   "source": [
    "b1_new = b1.astype(np.float64)"
   ]
  },
  {
   "cell_type": "code",
   "execution_count": 7,
   "id": "28db26a8-13fe-458d-a28a-7561c2e5ac4a",
   "metadata": {},
   "outputs": [],
   "source": [
    "a1 += b1_new"
   ]
  },
  {
   "cell_type": "code",
   "execution_count": 8,
   "id": "583e6ee3-96fc-4cfc-a5f1-18a6238e9506",
   "metadata": {},
   "outputs": [],
   "source": [
    "b1_new += a1"
   ]
  },
  {
   "cell_type": "code",
   "execution_count": 9,
   "id": "b792c8b7-134f-42ea-9fd9-b96d41c5eb68",
   "metadata": {},
   "outputs": [
    {
     "data": {
      "text/plain": [
       "array([[ 5.1, 10.2],\n",
       "       [ 8.3,  7.4],\n",
       "       [ 9.5,  8.6],\n",
       "       [17.7, 11.8],\n",
       "       [19.9, 11. ]])"
      ]
     },
     "execution_count": 9,
     "metadata": {},
     "output_type": "execute_result"
    }
   ],
   "source": [
    "a1"
   ]
  },
  {
   "cell_type": "code",
   "execution_count": 10,
   "id": "9dc482b6-cef7-427f-a7dc-f5bb79e76431",
   "metadata": {},
   "outputs": [
    {
     "data": {
      "text/plain": [
       "array([[ 4,  8],\n",
       "       [ 5,  3],\n",
       "       [ 4,  2],\n",
       "       [10,  3],\n",
       "       [10,  1]])"
      ]
     },
     "execution_count": 10,
     "metadata": {},
     "output_type": "execute_result"
    }
   ],
   "source": [
    "b1"
   ]
  },
  {
   "cell_type": "code",
   "execution_count": 11,
   "id": "d75c0172-9ccb-4295-959e-7f3647526082",
   "metadata": {},
   "outputs": [
    {
     "data": {
      "text/plain": [
       "array([[ 9.1, 18.2],\n",
       "       [13.3, 10.4],\n",
       "       [13.5, 10.6],\n",
       "       [27.7, 14.8],\n",
       "       [29.9, 12. ]])"
      ]
     },
     "execution_count": 11,
     "metadata": {},
     "output_type": "execute_result"
    }
   ],
   "source": [
    "b1_new"
   ]
  }
 ],
 "metadata": {
  "kernelspec": {
   "display_name": "Python 3 (ipykernel)",
   "language": "python",
   "name": "python3"
  },
  "language_info": {
   "codemirror_mode": {
    "name": "ipython",
    "version": 3
   },
   "file_extension": ".py",
   "mimetype": "text/x-python",
   "name": "python",
   "nbconvert_exporter": "python",
   "pygments_lexer": "ipython3",
   "version": "3.11.4"
  }
 },
 "nbformat": 4,
 "nbformat_minor": 5
}
