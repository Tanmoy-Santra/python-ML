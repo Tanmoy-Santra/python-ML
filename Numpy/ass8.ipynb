{
 "cells": [
  {
   "cell_type": "markdown",
   "id": "ecccb625-bb4f-414f-8438-1c3d8149f7f2",
   "metadata": {},
   "source": [
    "<b><h2>Assignment No : 08</h2></b>\n",
    "<h4><b>Problem Statement :</b></h4>\n",
    "<b><i>Using axis add the column values of a 3X3 matrix and then add it with the maximum \n",
    "values of rows taken in a 3X3 matrix.</i></b><br>\n",
    "<hr>\n",
    "<br>"
   ]
  },
  {
   "cell_type": "code",
   "execution_count": 1,
   "id": "756aa7a7-3a8a-44ad-94a1-6e6db24f51e9",
   "metadata": {},
   "outputs": [],
   "source": [
    "import numpy as np"
   ]
  },
  {
   "cell_type": "code",
   "execution_count": 2,
   "id": "1909a533-928c-49dd-b412-a5cb564c40fb",
   "metadata": {},
   "outputs": [],
   "source": [
    "a = np.array([[1, 2, 3],[6, 5, 4],[7, 9, 8]])"
   ]
  },
  {
   "cell_type": "code",
   "execution_count": 3,
   "id": "1e4dd8ba-9c85-493e-86b0-e5b9ec6552aa",
   "metadata": {},
   "outputs": [
    {
     "name": "stdout",
     "output_type": "stream",
     "text": [
      "Added column values using axis : [14 16 15]\n"
     ]
    }
   ],
   "source": [
    "sum = np.sum(a, axis=0)\n",
    "print(\"Added column values using axis :\",sum)"
   ]
  },
  {
   "cell_type": "code",
   "execution_count": 4,
   "id": "45144b08-c8f6-4967-b6a3-2ff107124ca8",
   "metadata": {},
   "outputs": [
    {
     "name": "stdout",
     "output_type": "stream",
     "text": [
      "Maximum value of rows : [3 6 9]\n"
     ]
    }
   ],
   "source": [
    "max = np.max(a, axis=1)\n",
    "print(\"Maximum value of rows :\",max)"
   ]
  },
  {
   "cell_type": "code",
   "execution_count": 5,
   "id": "77847e1c-b381-4e6c-9d37-0db58cd0ebd5",
   "metadata": {},
   "outputs": [],
   "source": [
    "result = sum + max"
   ]
  },
  {
   "cell_type": "code",
   "execution_count": 6,
   "id": "e4a8c4f0-7b3b-46a8-9d4b-7d6da5a5e065",
   "metadata": {},
   "outputs": [
    {
     "data": {
      "text/plain": [
       "array([17, 22, 24])"
      ]
     },
     "execution_count": 6,
     "metadata": {},
     "output_type": "execute_result"
    }
   ],
   "source": [
    "result"
   ]
  }
 ],
 "metadata": {
  "kernelspec": {
   "display_name": "Python 3 (ipykernel)",
   "language": "python",
   "name": "python3"
  },
  "language_info": {
   "codemirror_mode": {
    "name": "ipython",
    "version": 3
   },
   "file_extension": ".py",
   "mimetype": "text/x-python",
   "name": "python",
   "nbconvert_exporter": "python",
   "pygments_lexer": "ipython3",
   "version": "3.11.4"
  }
 },
 "nbformat": 4,
 "nbformat_minor": 5
}
