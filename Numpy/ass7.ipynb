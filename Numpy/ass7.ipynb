{
 "cells": [
  {
   "cell_type": "markdown",
   "id": "ecccb625-bb4f-414f-8438-1c3d8149f7f2",
   "metadata": {},
   "source": [
    "<b><h2>Assignment No : 07</h2></b>\n",
    "<h4><b>Problem Statement :</b></h4>\n",
    "<b><i>Take a function f(x) = x^3 + 5*y + 4*z and determine the values and store them in a (3,3,3) \n",
    "matrix.</i></b><br>\n",
    "<hr>\n",
    "<br>"
   ]
  },
  {
   "cell_type": "code",
   "execution_count": 1,
   "id": "756aa7a7-3a8a-44ad-94a1-6e6db24f51e9",
   "metadata": {},
   "outputs": [],
   "source": [
    "import numpy as np"
   ]
  },
  {
   "cell_type": "code",
   "execution_count": 2,
   "id": "e604b034-5798-4753-ac50-1e5055476079",
   "metadata": {},
   "outputs": [],
   "source": [
    "def f(x,y,z):\n",
    "    return x**3 + 5*y + 4*z"
   ]
  },
  {
   "cell_type": "code",
   "execution_count": 3,
   "id": "6fb41e11-c835-48b5-92f1-16c1802f9587",
   "metadata": {},
   "outputs": [],
   "source": [
    "a = np.fromfunction(f,(3,3,3),dtype=int)"
   ]
  },
  {
   "cell_type": "code",
   "execution_count": 4,
   "id": "e85b2f6a-ee62-46c3-b369-484ac64531e9",
   "metadata": {},
   "outputs": [
    {
     "data": {
      "text/plain": [
       "array([[[ 0,  4,  8],\n",
       "        [ 5,  9, 13],\n",
       "        [10, 14, 18]],\n",
       "\n",
       "       [[ 1,  5,  9],\n",
       "        [ 6, 10, 14],\n",
       "        [11, 15, 19]],\n",
       "\n",
       "       [[ 8, 12, 16],\n",
       "        [13, 17, 21],\n",
       "        [18, 22, 26]]])"
      ]
     },
     "execution_count": 4,
     "metadata": {},
     "output_type": "execute_result"
    }
   ],
   "source": [
    "a"
   ]
  }
 ],
 "metadata": {
  "kernelspec": {
   "display_name": "Python 3 (ipykernel)",
   "language": "python",
   "name": "python3"
  },
  "language_info": {
   "codemirror_mode": {
    "name": "ipython",
    "version": 3
   },
   "file_extension": ".py",
   "mimetype": "text/x-python",
   "name": "python",
   "nbconvert_exporter": "python",
   "pygments_lexer": "ipython3",
   "version": "3.11.4"
  }
 },
 "nbformat": 4,
 "nbformat_minor": 5
}
