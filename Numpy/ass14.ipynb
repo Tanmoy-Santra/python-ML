{
 "cells": [
  {
   "cell_type": "markdown",
   "id": "ecccb625-bb4f-414f-8438-1c3d8149f7f2",
   "metadata": {},
   "source": [
    "<b><h2>Assignment No : 14</h2></b>\n",
    "<h4><b>Problem Statement :</b></h4>\n",
    "<b><i>Take a matrix and by taking the i, j or x, y values implement the hstack and vstack \n",
    "methods.</i></b><br>\n",
    "<hr>\n",
    "<br>"
   ]
  },
  {
   "cell_type": "code",
   "execution_count": 1,
   "id": "756aa7a7-3a8a-44ad-94a1-6e6db24f51e9",
   "metadata": {},
   "outputs": [],
   "source": [
    "import numpy as np"
   ]
  },
  {
   "cell_type": "code",
   "execution_count": 2,
   "id": "1909a533-928c-49dd-b412-a5cb564c40fb",
   "metadata": {},
   "outputs": [],
   "source": [
    "x = np.arange(0,10,2)\n",
    "y = np.arange(5)"
   ]
  },
  {
   "cell_type": "code",
   "execution_count": 3,
   "id": "60083224-9974-497c-b63e-8f41ad6e25e6",
   "metadata": {},
   "outputs": [
    {
     "data": {
      "text/plain": [
       "array([0, 2, 4, 6, 8])"
      ]
     },
     "execution_count": 3,
     "metadata": {},
     "output_type": "execute_result"
    }
   ],
   "source": [
    "x"
   ]
  },
  {
   "cell_type": "code",
   "execution_count": 4,
   "id": "c9461556-6a08-4007-b5b3-95f83641b949",
   "metadata": {},
   "outputs": [
    {
     "data": {
      "text/plain": [
       "array([0, 1, 2, 3, 4])"
      ]
     },
     "execution_count": 4,
     "metadata": {},
     "output_type": "execute_result"
    }
   ],
   "source": [
    "y"
   ]
  },
  {
   "cell_type": "code",
   "execution_count": 5,
   "id": "c1f38b07-57ae-496e-ac64-f570731bb196",
   "metadata": {},
   "outputs": [],
   "source": [
    "hs = np.hstack([x,y])\n",
    "vs = np.vstack([x,y])"
   ]
  },
  {
   "cell_type": "code",
   "execution_count": 6,
   "id": "854b90f9-f1d5-4324-94d8-637ea5df5b7e",
   "metadata": {},
   "outputs": [
    {
     "name": "stdout",
     "output_type": "stream",
     "text": [
      "Horizontal Stack :\n",
      " [0 2 4 6 8 0 1 2 3 4]\n"
     ]
    }
   ],
   "source": [
    "print(\"Horizontal Stack :\\n\",hs)"
   ]
  },
  {
   "cell_type": "code",
   "execution_count": 7,
   "id": "81838d8d-fd3f-4628-a8d2-0983225865ed",
   "metadata": {},
   "outputs": [
    {
     "name": "stdout",
     "output_type": "stream",
     "text": [
      "Vertical Stack :\n",
      " [[0 2 4 6 8]\n",
      " [0 1 2 3 4]]\n"
     ]
    }
   ],
   "source": [
    "print(\"Vertical Stack :\\n\",vs)"
   ]
  }
 ],
 "metadata": {
  "kernelspec": {
   "display_name": "Python 3 (ipykernel)",
   "language": "python",
   "name": "python3"
  },
  "language_info": {
   "codemirror_mode": {
    "name": "ipython",
    "version": 3
   },
   "file_extension": ".py",
   "mimetype": "text/x-python",
   "name": "python",
   "nbconvert_exporter": "python",
   "pygments_lexer": "ipython3",
   "version": "3.11.4"
  }
 },
 "nbformat": 4,
 "nbformat_minor": 5
}
