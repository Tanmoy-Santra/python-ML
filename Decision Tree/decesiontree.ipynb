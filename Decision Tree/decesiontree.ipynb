{
 "cells": [
  {
   "cell_type": "markdown",
   "id": "e6c65eba-1d12-467f-ac47-1c88300f9c15",
   "metadata": {},
   "source": [
    "<b><h2>Assignment No : 8</h2></b>\n",
    "<h4><b>Problem Statement :</b></h4>\n",
    "<b><i>Take fruits.csv and perform classification based on Decision tree. What is the success rate?</i></b><br>\n",
    "<hr>\n",
    "<br>"
   ]
  },
  {
   "cell_type": "code",
   "execution_count": 1,
   "id": "6579e84d-5955-460a-96ef-7a7d97a36fd2",
   "metadata": {},
   "outputs": [
    {
     "name": "stdout",
     "output_type": "stream",
     "text": [
      "Results Using Entropy:\n",
      "Predicted values:\n",
      "[0 0 1 0 0 1]\n",
      "Accuracy:  1.0\n",
      "\n",
      "Results Using Gini:\n",
      "Predicted values:\n",
      "[0 0 1 0 0 1]\n",
      "Accuracy:  1.0\n"
     ]
    }
   ],
   "source": [
    "import pandas as pd \n",
    "from sklearn.metrics import confusion_matrix \n",
    "from sklearn.model_selection import train_test_split \n",
    "from sklearn.tree import DecisionTreeClassifier \n",
    "from sklearn.metrics import accuracy_score \n",
    "from sklearn.metrics import classification_report\n",
    "tip_df = pd.read_csv('fruits.csv')\n",
    "tip_df['Class'] = tip_df['Class'].map(dict(orange=0, apple=1)) \n",
    "tip_df.drop(['Index'], axis=1) \n",
    "X = tip_df.drop(['Class'],axis= 1) \n",
    "Y = tip_df['Class'] \n",
    "X_train, X_test, y_train, y_test = train_test_split(X,Y,test_size=0.3,random_state=100)\n",
    "def train_using_gini(X_train, X_test, y_train): \n",
    "    clf_gini = DecisionTreeClassifier(criterion=\"gini\",random_state=100,\n",
    "                                      max_depth=3, min_samples_leaf=5) \n",
    "    clf_gini.fit(X_train, y_train) \n",
    "    return clf_gini\n",
    "def train_using_entropy(X_train, X_test, y_train): \n",
    "    clf_entropy = DecisionTreeClassifier(criterion=\"entropy\", random_state=100,\n",
    "                                         max_depth=3, min_samples_leaf=5)\n",
    "    clf_entropy.fit(X_train,y_train) \n",
    "    return clf_entropy\n",
    "def prediction(X_test, clf_object):\n",
    "    y_pred = clf_object.predict(X_test)\n",
    "    print(\"Predicted values:\") \n",
    "    print(y_pred) \n",
    "    return y_pred\n",
    "clf_gini = train_using_gini(X_train, X_test, y_train) \n",
    "clf_entropy = train_using_entropy(X_train, X_test, y_train)\n",
    "print(\"Results Using Entropy:\")\n",
    "y_pred_entropy = prediction(X_test,clf_entropy) \n",
    "accuracy = accuracy_score(y_test, y_pred_entropy)\n",
    "print(\"Accuracy: \", accuracy)\n",
    "print(\"\\nResults Using Gini:\")\n",
    "y_pred_gini = prediction(X_test,clf_gini)\n",
    "accuracy = accuracy_score(y_test, y_pred_gini)\n",
    "print(\"Accuracy: \", accuracy)"
   ]
  }
 ],
 "metadata": {
  "kernelspec": {
   "display_name": "Python 3 (ipykernel)",
   "language": "python",
   "name": "python3"
  },
  "language_info": {
   "codemirror_mode": {
    "name": "ipython",
    "version": 3
   },
   "file_extension": ".py",
   "mimetype": "text/x-python",
   "name": "python",
   "nbconvert_exporter": "python",
   "pygments_lexer": "ipython3",
   "version": "3.11.4"
  }
 },
 "nbformat": 4,
 "nbformat_minor": 5
}
