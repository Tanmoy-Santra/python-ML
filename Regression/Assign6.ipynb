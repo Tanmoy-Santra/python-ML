{
 "cells": [
  {
   "cell_type": "markdown",
   "id": "bb635799-5f29-460d-99e5-1215403fbb4e",
   "metadata": {},
   "source": [
    "<b><h2>Assignment No : 07</h2></b>\n",
    "<h4><b>Problem Statement :</b></h4>\n",
    "<b><i>Take Y= [ 5,4,3,6,7,8,9,5,4,3] and X= [[3,2], [2,1], [1,0], [3,3], [4,4], [5,4], [5,5], [3,2], [2,1], [1,0]] Where x0= yoe and x1= level. Calculate R2 and equation slope and intercept.</i></b><br>\n",
    "<hr>\n",
    "<br>"
   ]
  },
  {
   "cell_type": "code",
   "execution_count": 1,
   "id": "3938146d-df90-4941-ac3a-0bd9d9a092c2",
   "metadata": {},
   "outputs": [],
   "source": [
    "import numpy as np\n",
    "from sklearn.linear_model import LinearRegression"
   ]
  },
  {
   "cell_type": "code",
   "execution_count": 2,
   "id": "0c3c3e59-d336-4d2a-8a8c-73ecba5dadb9",
   "metadata": {},
   "outputs": [
    {
     "name": "stdout",
     "output_type": "stream",
     "text": [
      "R-squared:  0.9845377604166666\n",
      "Intercept:  2.291666666666665\n",
      "Slope:  [0.47916667 0.78125   ]\n",
      "Equation:  2.291666666666665 + [0.47916667 0.78125   ] * X \n"
     ]
    }
   ],
   "source": [
    "Y = np.array([5, 4, 3, 6, 7, 8, 9, 5, 4, 3])\n",
    "X=np.array([[3,2],[2,1],[1,0],[3,3],[4,4],[5,4],[5,5],[3,2],[2,1],[1,0]])\n",
    "X = X.reshape(-1, 2)\n",
    "model = LinearRegression()\n",
    "model.fit(X, Y)\n",
    "print(\"R-squared: \", model.score(X,Y))\n",
    "print(\"Intercept: \", model.intercept_)\n",
    "print(\"Slope: \", model.coef_)\n",
    "b0 = (model.intercept_)\n",
    "b1 = (model.coef_)\n",
    "print(\"Equation: \", b0, \"+\", b1, \"* X \")"
   ]
  }
 ],
 "metadata": {
  "kernelspec": {
   "display_name": "Python 3 (ipykernel)",
   "language": "python",
   "name": "python3"
  },
  "language_info": {
   "codemirror_mode": {
    "name": "ipython",
    "version": 3
   },
   "file_extension": ".py",
   "mimetype": "text/x-python",
   "name": "python",
   "nbconvert_exporter": "python",
   "pygments_lexer": "ipython3",
   "version": "3.11.4"
  }
 },
 "nbformat": 4,
 "nbformat_minor": 5
}
