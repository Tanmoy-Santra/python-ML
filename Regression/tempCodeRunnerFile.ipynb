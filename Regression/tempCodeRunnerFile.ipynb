print("Result of test data:", y_test)
print("Result of predicted data:", y_pred)
print("Accuracy of KNN is:", 100 * metrics.accuracy_score(y_test, y_pred))