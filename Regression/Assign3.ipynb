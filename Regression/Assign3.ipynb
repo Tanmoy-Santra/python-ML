{
 "cells": [
  {
   "cell_type": "markdown",
   "id": "d4221d63-cc2b-4db0-9462-416838ff8c75",
   "metadata": {},
   "source": [
    "<b><h2>Assignment No : 03</h2></b>\n",
    "<h4><b>Problem Statement :</b></h4>\n",
    "<b><i>Use sklearn.data sets import load_iris use k-neighbour classifier to classify the three flowers to setosa, vesicolor and Virginica.</i></b><br>\n",
    "<hr>\n",
    "<br>"
   ]
  },
  {
   "cell_type": "code",
   "execution_count": 1,
   "id": "8d3e42e1-fe8a-4136-8879-f29a9a17f809",
   "metadata": {},
   "outputs": [],
   "source": [
    "from sklearn.datasets import load_iris\n",
    "from sklearn.model_selection import train_test_split\n",
    "from sklearn.neighbors import KNeighborsClassifier\n",
    "from sklearn import metrics"
   ]
  },
  {
   "cell_type": "code",
   "execution_count": 2,
   "id": "3fd843bf-7ae4-4714-bc5d-fbd008323460",
   "metadata": {},
   "outputs": [],
   "source": [
    "iris_dataset = load_iris()\n",
    "x_train, x_test, y_train, y_test = train_test_split(iris_dataset['data'],\n",
    "iris_dataset['target'], random_state=0)\n",
    "knn = KNeighborsClassifier(n_neighbors=1).fit(x_train, y_train)\n",
    "y_pred = knn.predict(x_test)"
   ]
  },
  {
   "cell_type": "code",
   "execution_count": 3,
   "id": "8d03906a-2c1a-4bef-88a4-18f91ad529e7",
   "metadata": {},
   "outputs": [
    {
     "name": "stdout",
     "output_type": "stream",
     "text": [
      "Result of test data: [2 1 0 2 0 2 0 1 1 1 2 1 1 1 1 0 1 1 0 0 2 1 0 0 2 0 0 1 1 0 2 1 0 2 2 1 0\n",
      " 1]\n",
      "Result of predicted data: [2 1 0 2 0 2 0 1 1 1 2 1 1 1 1 0 1 1 0 0 2 1 0 0 2 0 0 1 1 0 2 1 0 2 2 1 0\n",
      " 2]\n",
      "Accuracy of KNN is: 97.36842105263158\n"
     ]
    }
   ],
   "source": [
    "print(\"Result of test data:\", y_test)\n",
    "print(\"Result of predicted data:\", y_pred)\n",
    "print(\"Accuracy of KNN is:\", 100 * metrics.accuracy_score(y_test, y_pred))"
   ]
  }
 ],
 "metadata": {
  "kernelspec": {
   "display_name": "Python 3 (ipykernel)",
   "language": "python",
   "name": "python3"
  },
  "language_info": {
   "codemirror_mode": {
    "name": "ipython",
    "version": 3
   },
   "file_extension": ".py",
   "mimetype": "text/x-python",
   "name": "python",
   "nbconvert_exporter": "python",
   "pygments_lexer": "ipython3",
   "version": "3.11.4"
  }
 },
 "nbformat": 4,
 "nbformat_minor": 5
}
