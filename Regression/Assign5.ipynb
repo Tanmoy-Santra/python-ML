{
 "cells": [
  {
   "cell_type": "markdown",
   "id": "bb635799-5f29-460d-99e5-1215403fbb4e",
   "metadata": {},
   "source": [
    "<b><h2>Assignment No : 05</h2></b>\n",
    "<h4><b>Problem Statement :</b></h4>\n",
    "<b><i>Take Y= [ 5, 4, 3, 6,7, 8,9, 5, 4,3,1], X= [ yoe, level, leow, city] such that yoe and leow is directly proportional to the data and level is moderately dependent and calculate R2 and equation slope and intercept for yoe, level and leow which is the best parameter.</i></b><br>\n",
    "<hr>\n",
    "<br>"
   ]
  },
  {
   "cell_type": "code",
   "execution_count": 1,
   "id": "cf6bd80c-5e01-4112-8c08-00e6b118fbaf",
   "metadata": {},
   "outputs": [],
   "source": [
    "import numpy as np\n",
    "from sklearn.linear_model import LinearRegression"
   ]
  },
  {
   "cell_type": "code",
   "execution_count": 2,
   "id": "3938146d-df90-4941-ac3a-0bd9d9a092c2",
   "metadata": {},
   "outputs": [
    {
     "name": "stdout",
     "output_type": "stream",
     "text": [
      "X = [yoe, level, leow, city]:\n",
      "R-squared:  0.5004017672661639\n"
     ]
    }
   ],
   "source": [
    "yoe = np.array([3, 2, 1, 3, 4, 5, 5, 3, 2, 1, 1]).reshape(-1, 1)\n",
    "level = np.array([2, 1, 0, 3, 4, 4, 5, 2, 1, 0, 0]).reshape(-1, 1)\n",
    "leow = np.array([5, 3, 2, 5, 5, 8, 8, 4, 3, 2, 0]).reshape(-1, 1)\n",
    "city = np.array([1, 1, 2, 5, 4, 3, 6, 7, 4, 2, 3]).reshape(-1, 1)\n",
    "Y = np.array([5, 4, 3, 6, 7, 8, 9, 5, 4, 3, 1])\n",
    "X = np.array([yoe, level, leow, city]).reshape(11, 4)\n",
    "model = LinearRegression()\n",
    "model.fit(X, Y)\n",
    "print(\"X = [yoe, level, leow, city]:\")\n",
    "print(\"R-squared: \", model.score(X, Y))"
   ]
  },
  {
   "cell_type": "code",
   "execution_count": 3,
   "id": "6d0dab52-49a4-46af-8283-a719df0ba861",
   "metadata": {},
   "outputs": [
    {
     "name": "stdout",
     "output_type": "stream",
     "text": [
      "X = [yoe]:\n",
      "R-squared:  0.9306206088992974\n",
      "Intercept:  0.8196721311475397\n",
      "Slope:  [1.53278689]\n",
      "Equation:  0.8197 + 1.5328 * X \n"
     ]
    }
   ],
   "source": [
    "print(\"X = [yoe]:\")\n",
    "X = yoe\n",
    "model = LinearRegression()\n",
    "model.fit(X, Y)\n",
    "print(\"R-squared: \", model.score(X, Y))\n",
    "print(\"Intercept: \", model.intercept_)\n",
    "print(\"Slope: \", model.coef_)\n",
    "b0 = (model.intercept_).round(4)\n",
    "b1 = (model.coef_[0]).round(4)\n",
    "print(\"Equation: \", b0, \"+\", b1, \"* X \")"
   ]
  },
  {
   "cell_type": "markdown",
   "id": "b1af8b6f-1bbe-42a9-b534-f7695e44354d",
   "metadata": {},
   "source": [
    "<br><br><br><br><br><br><br><br><br><br><br><br><br>"
   ]
  },
  {
   "cell_type": "code",
   "execution_count": 4,
   "id": "20f66482-6bff-433b-ad8e-547f3dbbe467",
   "metadata": {},
   "outputs": [
    {
     "name": "stdout",
     "output_type": "stream",
     "text": [
      "X = [level]:\n",
      "R-squared:  0.9380580357142857\n",
      "Intercept:  2.4375000000000004\n",
      "Slope:  [1.28125]\n",
      "Equation:  2.4375 + 1.2812 * X \n"
     ]
    }
   ],
   "source": [
    "print(\"X = [level]:\")\n",
    "X = level\n",
    "model = LinearRegression()\n",
    "model.fit(X, Y)\n",
    "print(\"R-squared: \", model.score(X, Y))\n",
    "print(\"Intercept: \", model.intercept_)\n",
    "print(\"Slope: \", model.coef_)\n",
    "b0 = (model.intercept_).round(4)\n",
    "b1 = (model.coef_[0]).round(4)\n",
    "print(\"Equation: \", b0, \"+\", b1, \"* X \")"
   ]
  },
  {
   "cell_type": "code",
   "execution_count": 5,
   "id": "9fae4033-268c-4ba6-ae7c-2cdd4c07273c",
   "metadata": {},
   "outputs": [
    {
     "name": "stdout",
     "output_type": "stream",
     "text": [
      "X = [leow]:\n",
      "R-squared:  0.9525319829424307\n",
      "Intercept:  1.171641791044776\n",
      "Slope:  [0.9358209]\n",
      "Equation:  1.1716 + 0.9358 * X \n"
     ]
    }
   ],
   "source": [
    "print(\"X = [leow]:\")\n",
    "X = leow\n",
    "model = LinearRegression()\n",
    "model.fit(X, Y)\n",
    "print(\"R-squared: \", model.score(X, Y))\n",
    "print(\"Intercept: \", model.intercept_)\n",
    "print(\"Slope: \", model.coef_)\n",
    "b0 = (model.intercept_).round(4)\n",
    "b1 = (model.coef_[0]).round(4)\n",
    "print(\"Equation: \", b0, \"+\", b1, \"* X \")"
   ]
  }
 ],
 "metadata": {
  "kernelspec": {
   "display_name": "Python 3 (ipykernel)",
   "language": "python",
   "name": "python3"
  },
  "language_info": {
   "codemirror_mode": {
    "name": "ipython",
    "version": 3
   },
   "file_extension": ".py",
   "mimetype": "text/x-python",
   "name": "python",
   "nbconvert_exporter": "python",
   "pygments_lexer": "ipython3",
   "version": "3.11.4"
  }
 },
 "nbformat": 4,
 "nbformat_minor": 5
}
