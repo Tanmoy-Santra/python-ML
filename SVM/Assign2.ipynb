{
 "cells": [
  {
   "cell_type": "markdown",
   "id": "f19fab1f-6c35-417d-b093-f73afef32c92",
   "metadata": {},
   "source": [
    "<b><h2>Assignment No : 02</h2></b>\n",
    "<h4><b>Problem Statement :</b></h4>\n",
    "<b><i>Use the data set “fruits.csv” and form SVM classification by taking weight and size as the parameter. If you take single parameters does the SVM technique differs? Justify.</i></b><br>\n",
    "<hr>\n",
    "<br>"
   ]
  },
  {
   "cell_type": "code",
   "execution_count": 1,
   "id": "0354d27b-9a65-44eb-98f2-eab50a36f54f",
   "metadata": {},
   "outputs": [],
   "source": [
    "import pandas as pd\n",
    "from sklearn.svm import SVC \n",
    "from sklearn.model_selection import train_test_split\n",
    "from sklearn.metrics import confusion_matrix "
   ]
  },
  {
   "cell_type": "code",
   "execution_count": 2,
   "id": "f10a7067-b43e-4ec7-8690-23ce1445efb0",
   "metadata": {},
   "outputs": [
    {
     "name": "stdout",
     "output_type": "stream",
     "text": [
      "    Weight  size  Predictions\n",
      "3       72     5            5\n",
      "16      64     4            4\n",
      "6       70     5            4\n",
      "10      73     5            5\n",
      "\n",
      "Confusion matrix will be:\n",
      "[[1 0]\n",
      " [1 2]]\n",
      "\n",
      "Accuracy of svm for given dataset : 0.75\n"
     ]
    }
   ],
   "source": [
    "df_f=pd.read_csv(\"D:/CSE_2021_22/fruits.csv\") \n",
    "df_f['size']=df_f['size'].astype('int') \n",
    "x_train,x_test,y_train,y_test=train_test_split(df_f[['Weight']],df_f['size'],\n",
    "test_size=0.2,random_state=1) \n",
    "classifier=SVC(kernel='rbf',random_state=1) \n",
    "classifier.fit(x_train,y_train) \n",
    "y_pred=classifier.predict(x_test) \n",
    "y_test_t=pd.DataFrame(y_test,columns=['size']) \n",
    "test_set=pd.concat([x_test,y_test_t],axis=1) \n",
    "test_set[\"Predictions\"]=y_pred \n",
    "print(test_set) \n",
    "cm=confusion_matrix(y_test,y_pred) \n",
    "print(\"\\nConfusion matrix will be:\") \n",
    "print(cm) \n",
    "accuracy=float(cm.diagonal().sum())/len(y_test) \n",
    "print(\"\\nAccuracy of svm for given dataset :\",accuracy) "
   ]
  },
  {
   "cell_type": "markdown",
   "id": "7c7221e3-9b7a-471f-86f1-3da15cba2852",
   "metadata": {},
   "source": [
    "<br><br><b>Use of a single feature (parameter) with an SVM, it essentially becomes a one-dimensional problem, and the decision boundary is a line in this feature space. This is in contrast to using multiple features, where the decision boundary can be a hyperplane in a higher-dimensional space.The choice of using single or multiple parameters (features) depends on the nature of the data and the problem are trying to solve.<br>\n",
    "In many real-world scenarios, the relationship between input features and the output is not linear. Using multiple features allows SVM to capture more complex decision boundaries. For instance, in the case of fruits, considering both weight and size might provide a better separation between different classes.</b>"
   ]
  }
 ],
 "metadata": {
  "kernelspec": {
   "display_name": "Python 3 (ipykernel)",
   "language": "python",
   "name": "python3"
  },
  "language_info": {
   "codemirror_mode": {
    "name": "ipython",
    "version": 3
   },
   "file_extension": ".py",
   "mimetype": "text/x-python",
   "name": "python",
   "nbconvert_exporter": "python",
   "pygments_lexer": "ipython3",
   "version": "3.11.4"
  }
 },
 "nbformat": 4,
 "nbformat_minor": 5
}
