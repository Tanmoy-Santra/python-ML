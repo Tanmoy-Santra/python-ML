{
 "cells": [
  {
   "cell_type": "markdown",
   "id": "f19fab1f-6c35-417d-b093-f73afef32c92",
   "metadata": {},
   "source": [
    "<b><h2>Assignment No : 02</h2></b>\n",
    "<h4><b>Problem Statement :</b></h4>\n",
    "<b><i>Use the data set “fruits.csv” and form SVM classification by taking weight and size as the parameter. If you take single parameters does the SVM technique differs? Justify.</i></b><br>\n",
    "<hr>\n",
    "<br>"
   ]
  },
  {
   "cell_type": "code",
   "execution_count": 2,
   "id": "f10a7067-b43e-4ec7-8690-23ce1445efb0",
   "metadata": {},
   "outputs": [
    {
     "name": "stdout",
     "output_type": "stream",
     "text": [
      "    Weight  size Actual Class Predicted Class\n",
      "3       72  5.85        apple          orange\n",
      "16      64  4.90       orange          orange\n",
      "6       70  5.65        apple          orange\n",
      "10      73  5.50        apple          orange\n",
      "\n",
      "Confusion Matrix:\n",
      "[[0 3]\n",
      " [0 1]]\n",
      "\n",
      "Accuracy of SVM for the given dataset: 0.25\n"
     ]
    }
   ],
   "source": [
    "import pandas as pd\n",
    "from sklearn.svm import SVC \n",
    "from sklearn.model_selection import train_test_split\n",
    "from sklearn.metrics import confusion_matrix \n",
    "\n",
    "# Read the dataset\n",
    "df_fruits = pd.read_csv(\"D:/CSE_2021_22/fruits.csv\") \n",
    "\n",
    "# Use 'Weight' and 'size' as features\n",
    "X_train, X_test, y_train, y_test = train_test_split(df_fruits[['Weight', 'size']], df_fruits['Class'], test_size=0.2, random_state=1)\n",
    "\n",
    "# Create and train the SVM classifier\n",
    "classifier = SVC(kernel='rbf', random_state=1) \n",
    "classifier.fit(X_train, y_train) \n",
    "\n",
    "# Make predictions on the test set\n",
    "Y_pred = classifier.predict(X_test) \n",
    "\n",
    "# Create a DataFrame for the test set\n",
    "test_set = pd.DataFrame({'Weight': X_test['Weight'], 'size': X_test['size'], 'Actual Class': y_test, 'Predicted Class': Y_pred})\n",
    "\n",
    "# Display the test set and predictions\n",
    "print(test_set)\n",
    "\n",
    "# Calculate and print the confusion matrix\n",
    "cm = confusion_matrix(y_test, Y_pred)\n",
    "print(\"\\nConfusion Matrix:\")\n",
    "print(cm)\n",
    "\n",
    "# Calculate and print the accuracy\n",
    "accuracy = float(cm.diagonal().sum()) / len(y_test)\n",
    "print(\"\\nAccuracy of SVM for the given dataset:\", accuracy)\n"
   ]
  },
  {
   "cell_type": "code",
   "execution_count": null,
   "id": "eae8599c-84a3-4e1f-b5e2-a09d2ca59d11",
   "metadata": {},
   "outputs": [],
   "source": []
  }
 ],
 "metadata": {
  "kernelspec": {
   "display_name": "Python 3 (ipykernel)",
   "language": "python",
   "name": "python3"
  },
  "language_info": {
   "codemirror_mode": {
    "name": "ipython",
    "version": 3
   },
   "file_extension": ".py",
   "mimetype": "text/x-python",
   "name": "python",
   "nbconvert_exporter": "python",
   "pygments_lexer": "ipython3",
   "version": "3.11.4"
  }
 },
 "nbformat": 4,
 "nbformat_minor": 5
}
