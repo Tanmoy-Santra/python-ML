{
 "cells": [
  {
   "cell_type": "markdown",
   "id": "20bc8b9f-eba6-45ca-9202-44edf40655ce",
   "metadata": {},
   "source": [
    "<b><h2>Assignment No : 7</h2></b>\n",
    "<h4><b>Problem Statement :</b></h4>\n",
    "<b><i> Do get the data file and take 100 data from the notepad file to csv. Next by taking different technique \n",
    "do calculate the efficiency of the model. Data should represent minimum 100 records and all classes should\r\n",
    "be present in the data set.</i></b><br>\n",
    "<hr>\n",
    "<br>"
   ]
  },
  {
   "cell_type": "code",
   "execution_count": null,
   "id": "5ea15e4c-b798-40f7-87e0-57c42b5b164c",
   "metadata": {},
   "outputs": [],
   "source": [
    "import pandas as pd \n",
    "from sklearn.impute import SimpleImputer \n",
    "from sklearn.preprocessing import MinMaxScaler \n",
    "from sklearn import model_selection \n",
    "from sklearn.ensemble import BaggingClassifier \n",
    "from sklearn.tree import DecisionTreeClassifier \n",
    "from sklearn.ensemble import AdaBoostClassifier \n",
    "#Calling dataset \n",
    "df1 = pd.read_csv(\"D:\\CSE_2021_22\\cancer.csv\") \n",
    "df1.head() \n",
    "df1.drop(['Sample Code Number'],axis = 1,inplace = True) \n",
    "df1.head()\n",
    "df1['Bare nuclei'] \n",
    "df1.replace('?',0,inplace=True) \n",
    "df1['Bare nuclei']\n",
    "values = df1.values \n",
    "imputer = SimpleImputer() \n",
    "imputedData = imputer.fit_transform(values) \n",
    "scaler = MinMaxScaler(feature_range=(0, 1)) \n",
    "normalizedData = scaler.fit_transform(imputedData)\n",
    "X = normalizedData[:,0:9] \n",
    "Y = normalizedData[:,9]\n",
    " # Bagged Decision Trees for Classification \n",
    "kfold = model_selection.KFold(n_splits=10, random_state=7, shuffle=True) \n",
    "cart = DecisionTreeClassifier() \n",
    "num_trees = 100 \n",
    "model1 = BaggingClassifier(base_estimator=cart,n_estimators=num_trees, random_state=7)\n",
    "results1 = model_selection.cross_val_score(model1, X, Y, cv=kfold) \n",
    "print(\"Accuracy score for Bagging Classifier =\",results1.mean())\n",
    " # AdaBoost Classification\n",
    "seed = 7 \n",
    "num_trees = 70 \n",
    "kfold = model_selection.KFold(n_splits=10,random_state=seed,shuffle=True) \n",
    "model2 = AdaBoostClassifier(n_estimators=num_trees,random_state=seed)\n",
    "results2 = model_selection.cross_val_score(model2, X, Y, cv=kfold) \n",
    "print(\"Accuracy score for Adaboost Classifier =\",results2.mean())\n",
    "estimators = [] \n",
    "estimators.append(('bag',model1)) \n",
    "estimators.append(('ada',model2))\n",
    "model5 = DecisionTreeClassifier() \n",
    "estimators.append(('cart',model5))\n",
    "from sklearn.ensemble import VotingClassifier \n",
    "ensemble = VotingClassifier(estimators) \n",
    "results3 = model_selection.cross_val_score(ensemble, X, Y, cv=kfold) \n",
    "print(\"Accuracy score for Ensemble Classifier =\",results3.mean())"
   ]
  }
 ],
 "metadata": {
  "kernelspec": {
   "display_name": "Python 3 (ipykernel)",
   "language": "python",
   "name": "python3"
  },
  "language_info": {
   "codemirror_mode": {
    "name": "ipython",
    "version": 3
   },
   "file_extension": ".py",
   "mimetype": "text/x-python",
   "name": "python",
   "nbconvert_exporter": "python",
   "pygments_lexer": "ipython3",
   "version": "3.11.4"
  }
 },
 "nbformat": 4,
 "nbformat_minor": 5
}
